{
 "cells": [
  {
   "cell_type": "markdown",
   "metadata": {},
   "source": [
    "# P5JS als iframe einbinden\n"
   ]
  },
  {
   "cell_type": "markdown",
   "metadata": {},
   "source": [
    "### Lokalen Sketch als Iframe einbinden. Funktioniert auf lokalem Webserver. Aber auch aug github?\n",
    "<iframe style=\"width: 400px; height: 450px; overflow: hidden;\"  scrolling=\"no\" frameborder=\"0\" src=\"sketches/nn_feste_breite/index.html\"></iframe>"
   ]
  },
  {
   "cell_type": "markdown",
   "metadata": {},
   "source": [
    "### \n",
    "<iframe style=\"width: 400px; height: 450px; overflow: hidden;\"  scrolling=\"no\" frameborder=\"0\" src=\"https://editor.p5js.org/micbre/full/EFeYIccs_\"></iframe>"
   ]
  }
 ],
 "metadata": {
  "kernelspec": {
   "display_name": "Python 3",
   "language": "python",
   "name": "python3"
  },
  "language_info": {
   "codemirror_mode": {
    "name": "ipython",
    "version": 3
   },
   "file_extension": ".py",
   "mimetype": "text/x-python",
   "name": "python",
   "nbconvert_exporter": "python",
   "pygments_lexer": "ipython3",
   "version": "3.11.8"
  }
 },
 "nbformat": 4,
 "nbformat_minor": 2
}
