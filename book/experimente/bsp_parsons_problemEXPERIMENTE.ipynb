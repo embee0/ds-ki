{
 "cells": [
  {
   "cell_type": "markdown",
   "metadata": {},
   "source": [
    "# Ein Parsons-Problem einbinden\n",
    "Ich folge dabei [dieser Anleitung](https://parsons.problemsolving.io/). Mal sehen, ob das klappt..."
   ]
  },
  {
   "cell_type": "code",
   "execution_count": 5,
   "metadata": {},
   "outputs": [
    {
     "data": {
      "text/html": [
       "\n",
       "        <iframe\n",
       "            width=\"1000\"\n",
       "            height=\"500\"\n",
       "            src=\"http://parsons.problemsolving.io/puzzle/cbb39952d55a4be38f935c573a065f9f\"\n",
       "            frameborder=\"0\"\n",
       "            allowfullscreen\n",
       "            \n",
       "        ></iframe>\n",
       "        "
      ],
      "text/plain": [
       "<IPython.lib.display.IFrame at 0x119f24850>"
      ]
     },
     "execution_count": 5,
     "metadata": {},
     "output_type": "execute_result"
    }
   ],
   "source": [
    "from IPython.display import IFrame\n",
    "IFrame('http://parsons.problemsolving.io/puzzle/cbb39952d55a4be38f935c573a065f9f', width=1000, height=500)"
   ]
  },
  {
   "cell_type": "markdown",
   "metadata": {},
   "source": [
    "Das klappt, **aber leider nur lokal und nicht die in der Anleitung vorgeschlagene Variante mit heroku...** \n",
    "\n",
    "## Selbes Beispiel, aber mit ausgeblendeter Code-Zelle\n",
    "Dazu habe ich das Zellen-Tag `remove-input` hinzugefügt."
   ]
  },
  {
   "cell_type": "code",
   "execution_count": 6,
   "metadata": {
    "tags": [
     "remove-input"
    ]
   },
   "outputs": [
    {
     "data": {
      "text/html": [
       "\n",
       "        <iframe\n",
       "            width=\"1000\"\n",
       "            height=\"500\"\n",
       "            src=\"http://parsons.problemsolving.io/puzzle/cbb39952d55a4be38f935c573a065f9f\"\n",
       "            frameborder=\"0\"\n",
       "            allowfullscreen\n",
       "            \n",
       "        ></iframe>\n",
       "        "
      ],
      "text/plain": [
       "<IPython.lib.display.IFrame at 0x119775d90>"
      ]
     },
     "execution_count": 6,
     "metadata": {},
     "output_type": "execute_result"
    }
   ],
   "source": [
    "from IPython.display import IFrame\n",
    "IFrame('http://parsons.problemsolving.io/puzzle/cbb39952d55a4be38f935c573a065f9f', width=1000, height=500)"
   ]
  },
  {
   "cell_type": "markdown",
   "metadata": {},
   "source": [
    "## Versuch mit einer lokalen Datei"
   ]
  },
  {
   "cell_type": "code",
   "execution_count": 2,
   "metadata": {},
   "outputs": [
    {
     "data": {
      "text/html": [
       "\n",
       "        <iframe\n",
       "            width=\"1000\"\n",
       "            height=\"500\"\n",
       "            src=\"parsonsproblems/parsons1find_max.html?sandbox=allow-same-origin\"\n",
       "            frameborder=\"0\"\n",
       "            allowfullscreen\n",
       "            \n",
       "        ></iframe>\n",
       "        "
      ],
      "text/plain": [
       "<IPython.lib.display.IFrame at 0x114389210>"
      ]
     },
     "execution_count": 2,
     "metadata": {},
     "output_type": "execute_result"
    }
   ],
   "source": [
    "from IPython.display import IFrame\n",
    "IFrame('parsonsproblems/parsons1find_max.html', width=1000, height=500, sandbox=\"allow-same-origin\")"
   ]
  },
  {
   "cell_type": "markdown",
   "metadata": {},
   "source": [
    "### Lokale Datei mit GET-Parameter"
   ]
  },
  {
   "cell_type": "code",
   "execution_count": 37,
   "metadata": {},
   "outputs": [
    {
     "name": "stdout",
     "output_type": "stream",
     "text": [
      "Nicht-negative Zahl\n"
     ]
    }
   ],
   "source": [
    "x = int(input(\"Bitte geben Sie eine Zahl ein: \"))\n",
    "if x < 0:\n",
    "    print(\"Negative Zahl\")\n",
    "else:\n",
    "    print(\"Nicht-negative Zahl\")"
   ]
  },
  {
   "cell_type": "code",
   "execution_count": 38,
   "metadata": {},
   "outputs": [
    {
     "name": "stdout",
     "output_type": "stream",
     "text": [
      "CnggPSBpbnQoaW5wdXQoIkJpdHRlIGdlYmVuIFNpZSBlaW5lIFphaGwgZWluOiAiKSkKaWYgeCA8IDA6CiAgICBwcmludCgiTmVnYXRpdmUgWmFobCIpCmVsc2U6CiAgICBwcmludCgiTmljaHQtbmVnYXRpdmUgWmFobCIpCg\n",
      "CnggPSBpbnQoaW5wdXQoIkJpdHRlIGdlYmVuIFNpZSBlaW5lIFphaGwgZWluOiAiKSkKaWYgeCA8IDA6CiAgICBwcmludCgiTmVnYXRpdmUgWmFobCIpCmVsc2U6CiAgICBwcmludCgiTmljaHQtbmVnYXRpdmUgWmFobCIpCg\n"
     ]
    },
    {
     "data": {
      "text/html": [
       "\n",
       "        <iframe\n",
       "            width=\"1000\"\n",
       "            height=\"500\"\n",
       "            src=\"parsonsproblems/parsons2allgemein.html?problem=CnggPSBpbnQoaW5wdXQoIkJpdHRlIGdlYmVuIFNpZSBlaW5lIFphaGwgZWluOiAiKSkKaWYgeCA8IDA6CiAgICBwcmludCgiTmVnYXRpdmUgWmFobCIpCmVsc2U6CiAgICBwcmludCgiTmljaHQtbmVnYXRpdmUgWmFobCIpCg\"\n",
       "            frameborder=\"0\"\n",
       "            allowfullscreen\n",
       "            \n",
       "        ></iframe>\n",
       "        "
      ],
      "text/plain": [
       "<IPython.lib.display.IFrame at 0x122359650>"
      ]
     },
     "execution_count": 38,
     "metadata": {},
     "output_type": "execute_result"
    }
   ],
   "source": [
    "from IPython.display import IFrame\n",
    "import base64\n",
    "problem_str = \"def find_max(a, b, c):\\n    if a >= b and a >= c:\\n        return a\\n    elif b >= a and b >= c:\\n        return b\\n    else:\\n        return c\\n\\nprint(find_max(1, 2, 3))\"\n",
    "problem_str = \"\"\"\n",
    "x = int(input(\"Bitte geben Sie eine Zahl ein: \"))\n",
    "if x < 0:\n",
    "    print(\"Negative Zahl\")\n",
    "else:\n",
    "    print(\"Nicht-negative Zahl\")\n",
    "\"\"\"\n",
    "\n",
    "# encoded_problem = base64.b64encode(problem_str.encode(\"latin-1\")).decode(\"latin-1\")\n",
    "# encoded_problem = base64.b64encode(problem_str.encode(\"utf-8\")).decode(\"latin-1\")\n",
    "encoded_problem = base64.b64encode(bytes(problem_str, 'utf-8')).decode('latin-1')\n",
    "encoded_problem = base64.b64encode(bytes(problem_str, 'utf-8')).decode('utf-8')\n",
    "\n",
    "# remove padding\n",
    "encoded_problem = encoded_problem.rstrip(\"=\")\n",
    "\n",
    "print(encoded_problem)\n",
    "\n",
    "# safe_string = encoded_problem\n",
    "\n",
    "import urllib.parse\n",
    "safe_string = urllib.parse.quote_plus(encoded_problem)\n",
    "\n",
    "print(safe_string)\n",
    "url_str = f\"parsonsproblems/parsons2allgemein.html\"\n",
    "\n",
    "IFrame(url_str, width=1000, height=500, problem=safe_string)"
   ]
  },
  {
   "cell_type": "code",
   "execution_count": null,
   "metadata": {},
   "outputs": [],
   "source": []
  },
  {
   "cell_type": "code",
   "execution_count": null,
   "metadata": {},
   "outputs": [],
   "source": []
  }
 ],
 "metadata": {
  "kernelspec": {
   "display_name": "base",
   "language": "python",
   "name": "python3"
  },
  "language_info": {
   "codemirror_mode": {
    "name": "ipython",
    "version": 3
   },
   "file_extension": ".py",
   "mimetype": "text/x-python",
   "name": "python",
   "nbconvert_exporter": "python",
   "pygments_lexer": "ipython3",
   "version": "3.11.8"
  }
 },
 "nbformat": 4,
 "nbformat_minor": 2
}
