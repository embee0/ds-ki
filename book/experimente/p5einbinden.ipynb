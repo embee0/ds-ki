{
 "cells": [
  {
   "cell_type": "markdown",
   "metadata": {},
   "source": [
    "# P5JS als iframe einbinden\n",
    "\n",
    "```{important}\n",
    "Ich kann mit `p5js` erstellte Animationen an der passenden Stelle direkt ins Notebook einbinden. \n",
    "Und Mausklicks funktionieren auch. \n",
    "\n",
    "Cool!\n",
    "```\n"
   ]
  },
  {
   "cell_type": "markdown",
   "metadata": {},
   "source": [
    "### Lokalen Sketch als Iframe einbinden. Funktioniert auf lokalem Webserver. Aber auch auf github? Ja!\n",
    "<iframe style=\"width: 400px; height: 450px; overflow: hidden;\"  scrolling=\"no\" frameborder=\"0\" src=\"sketches/nn_feste_breite/index.html\"></iframe>"
   ]
  },
  {
   "cell_type": "markdown",
   "metadata": {},
   "source": [
    "### Und dasselbe nochmal aus dem Code heraus mit `Ipython.display.Iframe`"
   ]
  },
  {
   "cell_type": "code",
   "execution_count": 2,
   "metadata": {},
   "outputs": [
    {
     "data": {
      "text/html": [
       "\n",
       "        <iframe\n",
       "            width=\"1000\"\n",
       "            height=\"500\"\n",
       "            src=\"sketches/nn_feste_breite/index.html?sandbox=allow-same-origin\"\n",
       "            frameborder=\"0\"\n",
       "            allowfullscreen\n",
       "            \n",
       "        ></iframe>\n",
       "        "
      ],
      "text/plain": [
       "<IPython.lib.display.IFrame at 0x11a89d7d0>"
      ]
     },
     "execution_count": 2,
     "metadata": {},
     "output_type": "execute_result"
    }
   ],
   "source": [
    "# Und dasselbe nochmal aber aus dem Code heraus:\n",
    "from IPython.display import IFrame\n",
    "IFrame('sketches/nn_feste_breite/index.html', width=1000, height=500, sandbox=\"allow-same-origin\")"
   ]
  },
  {
   "cell_type": "markdown",
   "metadata": {},
   "source": [
    "### Was immer gehen sollte: den p5-Editor von `p5js.org` einbinde\n",
    "<iframe style=\"width: 400px; height: 450px; overflow: hidden;\"  scrolling=\"no\" frameborder=\"0\" src=\"https://editor.p5js.org/micbre/full/EFeYIccs_\"></iframe>"
   ]
  }
 ],
 "metadata": {
  "kernelspec": {
   "display_name": "Python 3",
   "language": "python",
   "name": "python3"
  },
  "language_info": {
   "codemirror_mode": {
    "name": "ipython",
    "version": 3
   },
   "file_extension": ".py",
   "mimetype": "text/x-python",
   "name": "python",
   "nbconvert_exporter": "python",
   "pygments_lexer": "ipython3",
   "version": "3.11.8"
  }
 },
 "nbformat": 4,
 "nbformat_minor": 2
}
