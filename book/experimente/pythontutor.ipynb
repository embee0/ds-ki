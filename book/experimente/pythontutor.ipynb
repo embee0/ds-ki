{
 "cells": [
  {
   "cell_type": "markdown",
   "metadata": {},
   "source": [
    "# Pythontutor"
   ]
  },
  {
   "cell_type": "code",
   "execution_count": 3,
   "metadata": {
    "tags": [
     "hide-cell",
     "thebe-init"
    ]
   },
   "outputs": [],
   "source": [
    "from IPython.display import IFrame\n",
    "from urllib.parse import quote_plus\n",
    "\n",
    "def python_tutor(code_str: str) -> IFrame:\n",
    "    \"\"\"Return an IFrame of the Python Tutor visualization of the given code.\"\"\"\n",
    "    code_str = quote_plus(code_str)\n",
    "    return IFrame(src=f\"http://www.pythontutor.com/visualize.html#code={code_str}\", width=\"100%\", height=500)"
   ]
  },
  {
   "cell_type": "code",
   "execution_count": 4,
   "metadata": {
    "tags": [
     "full-width"
    ]
   },
   "outputs": [
    {
     "data": {
      "text/html": [
       "\n",
       "        <iframe\n",
       "            width=\"100%\"\n",
       "            height=\"500\"\n",
       "            src=\"http://www.pythontutor.com/visualize.html#code=%0A%23+Aufgabe%3A+Berechne+die+Summe+aller+einzigartigen+Zahlen+in+einer+Liste%0Aliste+%3D+%5B1%2C+2%2C+3%2C+2%2C+4%2C+5%2C+6%2C+4%5D%0Asumme+%3D+0%0Abekannt+%3D+set%28%29%0Afor+zahl+in+liste%3A%0A++++if+zahl+in+bekannt%3A%0A++++++++continue%0A++++summe+%2B%3D+zahl%0A++++bekannt.add%28zahl%29%0Aprint%28summe%29%0A\"\n",
       "            frameborder=\"0\"\n",
       "            allowfullscreen\n",
       "            \n",
       "        ></iframe>\n",
       "        "
      ],
      "text/plain": [
       "<IPython.lib.display.IFrame at 0x111cf3e90>"
      ]
     },
     "execution_count": 4,
     "metadata": {},
     "output_type": "execute_result"
    }
   ],
   "source": [
    "code_bsp = \"\"\"\n",
    "# Aufgabe: Berechne die Summe aller einzigartigen Zahlen in einer Liste\n",
    "liste = [1, 2, 3, 2, 4, 5, 6, 4]\n",
    "summe = 0\n",
    "bekannt = set()\n",
    "for zahl in liste:\n",
    "    if zahl in bekannt:\n",
    "        continue\n",
    "    summe += zahl\n",
    "    bekannt.add(zahl)\n",
    "print(summe)\n",
    "\"\"\"\n",
    "\n",
    "python_tutor(code_bsp)"
   ]
  },
  {
   "cell_type": "code",
   "execution_count": null,
   "metadata": {},
   "outputs": [],
   "source": []
  }
 ],
 "metadata": {
  "kernelspec": {
   "display_name": "base",
   "language": "python",
   "name": "python3"
  },
  "language_info": {
   "codemirror_mode": {
    "name": "ipython",
    "version": 3
   },
   "file_extension": ".py",
   "mimetype": "text/x-python",
   "name": "python",
   "nbconvert_exporter": "python",
   "pygments_lexer": "ipython3",
   "version": "3.11.8"
  }
 },
 "nbformat": 4,
 "nbformat_minor": 2
}
