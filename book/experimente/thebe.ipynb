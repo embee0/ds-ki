{
 "cells": [
  {
   "cell_type": "markdown",
   "metadata": {},
   "source": [
    "# Experimente mit Thebe"
   ]
  },
  {
   "cell_type": "markdown",
   "metadata": {},
   "source": [
    "Hier probiere ich Thebe aus, insb.\n",
    "- https://jupyterbook.org/en/stable/interactive/thebe.html#pre-execute-cells-when-thebe-is-initialized\n",
    "\n",
    "```{warning}\n",
    "- Das tag remove-cell scheint dafür zu sorgen, dass die Zelle auch nicht mit thebe-init ausgeführt wird. TODO: Nachfragen bei teach books\n",
    "- In [diesem Beispiel](https://teachbooks.tudelft.nl/jupyter-book-manual/examples/example_gumbel.html) kann man (Live Coding aktivieren!) sehen, wie die einen Lösungschecker einbauen!!!\n",
    "```\n"
   ]
  },
  {
   "cell_type": "code",
   "execution_count": null,
   "metadata": {
    "tags": [
     "hide-input",
     "hide-output",
     "thebe-init"
    ]
   },
   "outputs": [],
   "source": [
    "# Diese Zelle ist nur eingeklappt, aber direkt darunter kommt eine, die ganz versteckt ist.\n",
    "\n",
    "# Diese Zelle bekommt die folgenden Tags:\n",
    "# - hide-input (versteckt den Code, ist aber ausklappbar)\n",
    "# - hide-output (versteckt die Ausgabe)\n",
    "# - thebe-init (Zelle wird beim Start von Thebe ausgeführt)\n",
    "\n",
    "eine_variable = \"Eine Geheimbotschaft\"\n",
    "\n",
    "def geheimfunktion():\n",
    "    return \"Eine andere Geheimbotschaft\"\n",
    "\n",
    "print(\"Diese Ausgabe sollte zunächst nicht sichtbar sein (hide-output).\")"
   ]
  },
  {
   "cell_type": "code",
   "execution_count": null,
   "metadata": {
    "tags": [
     "thebe-init",
     "hide-cell"
    ]
   },
   "outputs": [],
   "source": [
    "# Diese Zelle ist versteckt, wird aber trotzdem beim Start ausgeführt.\n",
    "# Das ist nützlich, um Funktionen und Variablen zu definieren, die in anderen Zellen verwendet werden sollen,\n",
    "# ohne dass der Code sichtbar ist.\n",
    "\n",
    "variable_aus_der_versteckten_zelle = \"Eine weitere Geheimbotschaft\"\n",
    "\n",
    "def ueberpruefe_deine_loesung():\n",
    "    assert addiere(1, 2) == 3, \"Deine Funktion addiere() funktioniert noch nicht richtig.\"\n",
    "    assert addiere(-2, 2) == 0, \"Deine Funktion addiere() funktioniert noch nicht richtig.\"\n",
    "    print(\"Super! Deine Funktion addiere() funktioniert korrekt.\")\n",
    "    assert betrag(-5) == 5, \"Deine Funktion betrag() funktioniert noch nicht richtig.\"\n",
    "    assert betrag(5) == 5, \"Deine Funktion betrag() funktioniert noch nicht richtig.\"\n",
    "    assert betrag(0) == 0, \"Deine Funktion betrag() funktioniert noch nicht richtig.\"\n",
    "    print(\"Super! Deine Funktion betrag() funktioniert korrekt.\")"
   ]
  },
  {
   "cell_type": "code",
   "execution_count": null,
   "metadata": {},
   "outputs": [],
   "source": [
    "# Bitte starte Thebe und führe diese Zelle aus. Die Variable und die Funktion sollten \n",
    "# von Anfang an verfügbar sein, weil die versteckte Zelle darüber beim Start von Thebe \n",
    "# automatisch ausgeführt wurde.\n",
    "\n",
    "print(eine_variable)\n",
    "print(geheimfunktion())"
   ]
  },
  {
   "cell_type": "code",
   "execution_count": null,
   "metadata": {},
   "outputs": [],
   "source": [
    "def addiere(param1: float, param2: float) -> float:\n",
    "    # Ändere diese Funktion, so dass sie die Summe der beiden Parameter zurückgibt\n",
    "    return 0\n",
    "\n",
    "def betrag(zahl: float) -> float:\n",
    "    # Ändere diese Funktion, so dass sie den Betrag der Zahl zurückgibt\n",
    "    return 0\n",
    "\n",
    "# Führe diese Zelle aus, um deine Lösung zu überprüfen\n",
    "ueberpruefe_deine_loesung()"
   ]
  }
 ],
 "metadata": {
  "kernelspec": {
   "display_name": "base",
   "language": "python",
   "name": "python3"
  },
  "language_info": {
   "codemirror_mode": {
    "name": "ipython",
    "version": 3
   },
   "file_extension": ".py",
   "mimetype": "text/x-python",
   "name": "python",
   "nbconvert_exporter": "python",
   "pygments_lexer": "ipython3",
   "version": "3.11.8"
  }
 },
 "nbformat": 4,
 "nbformat_minor": 2
}
