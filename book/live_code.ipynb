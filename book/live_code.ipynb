{
 "cells": [
  {
   "cell_type": "markdown",
   "metadata": {},
   "source": [
    "(livecode)=\n",
    "# Programmieren direkt in diesem Buch\n",
    "\n",
    "Auf manchen Seiten in diesem Buch siehst du ganz oben ein 🚀 Raketensymbol. Klicke es an und wähle dann \"Live Code\". Dadurch wird die Seite zu einem Jupyter Notebook, das du direkt im Browser bearbeiten und ausführen kannst - ganz ohn Software zu installieren!\n",
    "\n",
    "Probiere es hier unten gleich einmal aus 👇"
   ]
  },
  {
   "cell_type": "code",
   "execution_count": 9,
   "metadata": {},
   "outputs": [
    {
     "name": "stdout",
     "output_type": "stream",
     "text": [
      "Diese Ausgabe soll verschwinden und durch einen Gruß an die Welt ersetzt werden.\n"
     ]
    }
   ],
   "source": [
    "# Aufgabe 1: Führe den Code aus (🚀 ⟶ Live Code ⟶ \"run\"-Button unterhalb dieser Zelle). \n",
    "# Aufgabe 2: Ändere den Code so, dass bei der Ausführung\"Hallo Welt\" ausgegeben wird.\n",
    "\n",
    "variable1: str = \"Hallo\"\n",
    "variable2: str = \"Welt\"\n",
    "\n",
    "print(\"Diese Ausgabe soll verschwinden und durch einen Gruß an die Welt ersetzt werden.\")\n"
   ]
  },
  {
   "cell_type": "markdown",
   "metadata": {},
   "source": [
    "## Code mit Pytest überprüfen\n",
    "\n",
    "```{tip}\n",
    "Lösung für das untenstehende Problem [wahrscheinlich hier](https://jupyterbook.org/en/stable/interactive/thebe.html#pre-execute-cells-when-thebe-is-initialized): Beim Initialsieren von `Thebe` kann direkt Code ausgeführt werden - auch versteckter!\n",
    "```\n",
    "\n",
    "\n",
    "```{warning}\n",
    "Der unten beschriebene Ansatzt funktioniert leider so noch nicht, weil \n",
    "1. die versteckten Zellen nicht ausgeführt werden\n",
    "2. pytest & Co nicht installiert sind in thebe-Kernel. (Wahrscheinlich könnte man das irgendwie machen, aber wegen 1. ist das sowieso gerade egal.)\n",
    "\n",
    "Für den Anfang muss das vielleicht online auch gar nicht sein. In den \"echten\" Notebooks, d.h. auf dem Schul-PC oder eigenen Rechner, ist ja pytest installiert.\n",
    "```\n",
    "Hier wird gleich eine Aufgabe aufgestellt und das Ergebnis mit Pytest überprüft.\n",
    "\n",
    "Das ist alles noch sehr proof-of-concept. Die Ausgabe ist noch nicht schön, aber ich glaube, dass kann man irgendwo konfigurieren."
   ]
  },
  {
   "cell_type": "code",
   "execution_count": 10,
   "metadata": {
    "tags": [
     "hide-cell"
    ]
   },
   "outputs": [
    {
     "name": "stdout",
     "output_type": "stream",
     "text": [
      "Requirement already satisfied: pytest in /Users/micbr/anaconda3/lib/python3.11/site-packages (7.4.4)\n",
      "Requirement already satisfied: ipytest in /Users/micbr/anaconda3/lib/python3.11/site-packages (0.14.2)\n",
      "Requirement already satisfied: iniconfig in /Users/micbr/anaconda3/lib/python3.11/site-packages (from pytest) (1.1.1)\n",
      "Requirement already satisfied: packaging in /Users/micbr/anaconda3/lib/python3.11/site-packages (from pytest) (23.2)\n",
      "Requirement already satisfied: pluggy<2.0,>=0.12 in /Users/micbr/anaconda3/lib/python3.11/site-packages (from pytest) (1.0.0)\n",
      "Requirement already satisfied: ipython in /Users/micbr/anaconda3/lib/python3.11/site-packages (from ipytest) (8.20.0)\n",
      "Requirement already satisfied: decorator in /Users/micbr/anaconda3/lib/python3.11/site-packages (from ipython->ipytest) (5.1.1)\n",
      "Requirement already satisfied: jedi>=0.16 in /Users/micbr/anaconda3/lib/python3.11/site-packages (from ipython->ipytest) (0.18.1)\n",
      "Requirement already satisfied: matplotlib-inline in /Users/micbr/anaconda3/lib/python3.11/site-packages (from ipython->ipytest) (0.1.6)\n",
      "Requirement already satisfied: prompt-toolkit<3.1.0,>=3.0.41 in /Users/micbr/anaconda3/lib/python3.11/site-packages (from ipython->ipytest) (3.0.43)\n",
      "Requirement already satisfied: pygments>=2.4.0 in /Users/micbr/anaconda3/lib/python3.11/site-packages (from ipython->ipytest) (2.15.1)\n",
      "Requirement already satisfied: stack-data in /Users/micbr/anaconda3/lib/python3.11/site-packages (from ipython->ipytest) (0.2.0)\n",
      "Requirement already satisfied: traitlets>=5 in /Users/micbr/anaconda3/lib/python3.11/site-packages (from ipython->ipytest) (5.14.3)\n",
      "Requirement already satisfied: pexpect>4.3 in /Users/micbr/anaconda3/lib/python3.11/site-packages (from ipython->ipytest) (4.8.0)\n",
      "Requirement already satisfied: parso<0.9.0,>=0.8.0 in /Users/micbr/anaconda3/lib/python3.11/site-packages (from jedi>=0.16->ipython->ipytest) (0.8.3)\n",
      "Requirement already satisfied: ptyprocess>=0.5 in /Users/micbr/anaconda3/lib/python3.11/site-packages (from pexpect>4.3->ipython->ipytest) (0.7.0)\n",
      "Requirement already satisfied: wcwidth in /Users/micbr/anaconda3/lib/python3.11/site-packages (from prompt-toolkit<3.1.0,>=3.0.41->ipython->ipytest) (0.2.5)\n",
      "Requirement already satisfied: executing in /Users/micbr/anaconda3/lib/python3.11/site-packages (from stack-data->ipython->ipytest) (0.8.3)\n",
      "Requirement already satisfied: asttokens in /Users/micbr/anaconda3/lib/python3.11/site-packages (from stack-data->ipython->ipytest) (2.0.5)\n",
      "Requirement already satisfied: pure-eval in /Users/micbr/anaconda3/lib/python3.11/site-packages (from stack-data->ipython->ipytest) (0.2.2)\n",
      "Requirement already satisfied: six in /Users/micbr/anaconda3/lib/python3.11/site-packages (from asttokens->stack-data->ipython->ipytest) (1.16.0)\n"
     ]
    }
   ],
   "source": [
    "def test_addition1():\n",
    "    assert addiere(1, 2) == 3, \"Deine Additionsfunktion ist noch nicht korrekt. Probier's nochmal!\"\n",
    "    assert addiere(1.5, 2.5) == 4, \"Deine Additionsfunktion ist noch nicht korrekt. Probier's nochmal!\"\n",
    "\n",
    "%pip install pytest ipytest   \n",
    "\n",
    "import ipytest\n",
    "ipytest.autoconfig()\n",
    "\n",
    "def überprüfe_deine_lösung():\n",
    "    ipytest.run(\"-q\", \"--tb=no\")\n",
    "    # ipytest.run(\"-q\", \"--tb=short\")"
   ]
  },
  {
   "cell_type": "code",
   "execution_count": 11,
   "metadata": {},
   "outputs": [],
   "source": [
    "def addiere(param1: float, param2: float) -> float:\n",
    "    # Ändere diese Funktion, so dass sie die Summe der beiden Parameter zurückgibt\n",
    "    return 0"
   ]
  },
  {
   "cell_type": "code",
   "execution_count": 13,
   "metadata": {},
   "outputs": [
    {
     "name": "stdout",
     "output_type": "stream",
     "text": [
      "\u001b[31mF\u001b[0m\u001b[31m                                                                                            [100%]\u001b[0m\n",
      "\u001b[36m\u001b[1m===================================== short test summary info ======================================\u001b[0m\n",
      "\u001b[31mFAILED\u001b[0m t_d9ffab5990aa4ac990059a3ff5577a70.py::\u001b[1mtest_addition1\u001b[0m - AssertionError: Deine Additionsfunktion ist noch nicht korrekt. Probier's nochmal!\n"
     ]
    }
   ],
   "source": [
    "# Führe diese Zelle aus, um deine Lösung zu überprüfen\n",
    "überprüfe_deine_lösung()"
   ]
  }
 ],
 "metadata": {
  "kernelspec": {
   "display_name": "base",
   "language": "python",
   "name": "python3"
  },
  "language_info": {
   "codemirror_mode": {
    "name": "ipython",
    "version": 3
   },
   "file_extension": ".py",
   "mimetype": "text/x-python",
   "name": "python",
   "nbconvert_exporter": "python",
   "pygments_lexer": "ipython3",
   "version": "3.11.8"
  }
 },
 "nbformat": 4,
 "nbformat_minor": 2
}
