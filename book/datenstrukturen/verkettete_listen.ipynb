{
 "cells": [
  {
   "cell_type": "markdown",
   "metadata": {},
   "source": [
    "# Verkettete Listen"
   ]
  },
  {
   "cell_type": "markdown",
   "metadata": {},
   "source": [
    "## Der abstrakte Datentyp *Liste*\n",
    "Listen sind in der Informatik allgegenwärtig. Man nutzt sie immer, wenn für die Verarbeitung von Daten wichtig ist, in welcher *Reihenfolge* sie vorliegen bzw. an welcher genauen *Position* (*Index*) ein bestimmter Wert steht. \n",
    "\n",
    "Die wichtigsten Operationen von Listen sind in {numref}`fig_kd_liste_adt_interface` aufge*list*et 😉:\n",
    "\n",
    "```{figure} bilder/kd_liste_adt_interface_fosa.svg\n",
    "---\n",
    "width: 30%\n",
    "name: fig_kd_liste_adt_interface\n",
    "align: center\n",
    "---\n",
    "Der abstrakte Datentyp *Liste* als UML-Klassendiagramm (FoSa 4.3.2)\n",
    "```\n",
    "\n",
    "Als *Benutzer* des Listen-Typs wollen wir gar nicht unbedingt wissen, wie eine Liste intern implementiert ist; es reicht, dass sie sich garantiert so verhält, wie wir es erwarten. Z.B. erwarten wir, dass nach den Operationen\n",
    "\n",
    "```\n",
    "namen = [\"Zora\", \"Xenia\", \"Willi\"]\n",
    "namen.anhaengen(\"Vito\")\n",
    "namen.einfuegen(1, \"Yannick\")\n",
    "namen.entfernen(\"Zora\")\n",
    "namen.einfuegenVorne(\"Alex\")\n",
    "\n",
    "```\n",
    "\n",
    "die Liste so aussieht:\n",
    "\n",
    "```{admonition} Resultierende Liste (Welches Ergebnis erwartest du?)\n",
    ":class: tip, dropdown\n",
    "`['Alex', 'Yannick', 'Xenia', 'Willi', 'Vito']`\n",
    "```\n",
    "\n",
    "### Listen in Python\n",
    "Auch bei den Datentypen, die von einer Programmiersprache oder eine Bibliothek bereitgestellt werden, interessiert uns v.a., was wir damit tun können, nicht wie sie intern implementiert sind. Wir wissen z.B., dass der Datentyp `list` in Python Methoden wie `append`, `insert`, `remove`, `index` usw. bereitstellt. Damit können wir das Pseudocode-Beispiel von oben nachbauen.\n"
   ]
  },
  {
   "cell_type": "code",
   "execution_count": 6,
   "metadata": {},
   "outputs": [
    {
     "name": "stdout",
     "output_type": "stream",
     "text": [
      "['Zora', 'Xenia', 'Willi']\n"
     ]
    }
   ],
   "source": [
    "# AUFGABE: Setze das obige Pseudocode-Beispiel in Python um, so dass\n",
    "# die korrekte Ausgabe erzeugt wird.\n",
    "\n",
    "namen = [\"Zora\", \"Xenia\", \"Willi\"]\n",
    "# HIER ERGÄNZEN\n",
    "\n",
    "print(namen)  # Erwartete Ausgabe: ['Alex', 'Yannick', 'Xenia', 'Willi', 'Vito']"
   ]
  },
  {
   "cell_type": "markdown",
   "metadata": {},
   "source": [
    "Lösung:"
   ]
  },
  {
   "cell_type": "code",
   "execution_count": 7,
   "metadata": {
    "tags": [
     "hide-cell"
    ]
   },
   "outputs": [
    {
     "name": "stdout",
     "output_type": "stream",
     "text": [
      "['Alex', 'Yannick', 'Xenia', 'Willi', 'Vito']\n"
     ]
    }
   ],
   "source": [
    "# LÖSUNG: Setze das obige Pseudocode-Beispiel in Python um, so dass\n",
    "# die korrekte Ausgabe erzeugt wird.\n",
    "namen = [\"Zora\", \"Xenia\", \"Willi\"]\n",
    "namen.append(\"Vito\")\n",
    "namen.insert(1, \"Yannick\")\n",
    "namen.remove(\"Zora\")\n",
    "namen.insert(0, \"Alex\")\n",
    "\n",
    "print(namen)  # Erwartete Ausgabe: ['Alex', 'Yannick', 'Xenia', 'Willi', 'Vito']"
   ]
  },
  {
   "cell_type": "markdown",
   "metadata": {},
   "source": [
    "## Verkettete Liste \n",
    "\n",
    "Es gibt zwei gebräuchliche Methoden, um den ADT Liste zu implementieren:\n",
    "\n",
    "1. Verkettete Liste\n",
    "2. Array (hierbei muss berücksichtigt werden, dass die Größe des Arrays begrenzt ist und\n",
    "evtl. intern zwischendurch neue Arrays erstellt werden müssen, wenn die Größe überschritten wird)\n",
    "\n",
    "Wir beschäftigen uns hier nur mit der Implemetierung als Verkettete Liste, weil wir dadurch\n",
    "die Grundlagen von *rekursiven Datenstrukturen* kennenlernen, die wir später auch bei Bäumen\n",
    "benötigen.\n",
    "\n",
    "### Wie sehen verkettete Listen aus?\n",
    "\n",
    "```{figure} bilder/verkettete_Liste_DCBA.svg\n",
    "---\n",
    "width: 70%\n",
    "name: fig_verkettete_Liste_DCBA\n",
    "align: center\n",
    "---\n",
    "Verkettete Liste oder Polonaise?\n",
    "```\n",
    "\n",
    "Eine verketette Liste besteht aus **Knoten**. Jeder Knoten enthält einen **Inhalt** (z.B. eine Zahl oder\n",
    "einen String) und eine **Referenz** auf den *nächsten* Knoten.\n",
    "\n",
    "Beispiel:\n",
    "Liste = [\"Dina\", \"Coco\", \"Bibi\", \"Anna\"]\n",
    "\n",
    "Die Liste besteht aus 4 Knoten:\n",
    "- Knoten1: Inhalt=\"Dina\", naechster=Knoten2\n",
    "- Knoten2: Inhalt=\"Coco\", naechster=Knoten3\n",
    "- Knoten3: Inhalt=\"Bibi\", naechster=Knoten4\n",
    "- Knoten4: Inhalt=\"Anna\", naechster=None\n",
    "\n",
    "Die Referenz `naechster` des letzten Knotens ist `None`, da es keinen weiteren Knoten gibt.\n",
    "\n",
    "### Übung: Einen neuen Knoten in eine Liste einfügen\n",
    "Zwischen `Coco` und `Bibi` soll ein weiterer Knoten eingefügt werden, z.B. `Horst`. Dazu muss folgendes passieren:\n",
    "\n",
    "```{margin}\n",
    "Das klingt einfach... aber der 😈 steckt im Detail, wie du unten gleich sehen wirst!\n",
    "```\n",
    "\n",
    "1. Ein neuer Knoten, der als Inhalt den String \"Horst\" enthält wird angelegt.\n",
    "2. Der Nachfolger von `Coco` wird auf `Horst` gesetzt.\n",
    "3. Der Nachfolger von `Horst` wird auf `Bibi` gesetzt.\n",
    "\n",
    "**Aufgabe:** Zeichne {numref}`fig_verkettete_Liste_DCBA` ab. Ändere deine Zeichnung dann Schritt für Schritt anhand der oben genannten Schritte ab. *Überlege dabei genau, welche Reihenfolge dabei sinnvoll ist.*\n",
    " "
   ]
  },
  {
   "cell_type": "markdown",
   "metadata": {},
   "source": [
    "\n",
    "### Verkettete Listen in UML\n",
    "\n",
    "Das Klassendiagramm  {numref}`fig_kd_verkettete_liste` zeigt, wie man die verkettete Liste in UML modelliert. Du siehst, dass zwei Klassen verwendet werden, *VerketteteListe* und *Knoten*. Die Klasse *VerketteteListe* speichert eine Referenz auf den *ersten* Knoten (den **Listenkopf**) und enthält all die Methoden aus dem ADT Liste, wie Hinzufügen, Entfernen und Suchen von Elementen. \n",
    "\n",
    "```{figure} bilder/kd_verkettete_liste_fosa.svg\n",
    "---\n",
    "width: 80%\n",
    "name: fig_kd_verkettete_liste\n",
    "align: center\n",
    "---\n",
    "Klassendiagramm für die Datenstruktur *Verkettete Liste* (FoSa 5.1)\n",
    "```\n",
    "\n",
    "Die eigentliche Arbeit der Datenstruktur erfolgt in der Klasse *Knoten*, die ein einzelnes Listenelement darstellt. Jeder Knoten enthält sowohl einen Inhalt als auch eine Referenz auf den nächsten Knoten. Es handelt sich hier also um eine Assoziation der Klasse Knoten *mit sich selbst*  (von Knoten zu Knoten). Man spricht hierbei von einer *reflexiven* Assoziation."
   ]
  },
  {
   "cell_type": "markdown",
   "metadata": {},
   "source": [
    "## Verkettete Listen in Python programmieren\n",
    "\n",
    "Wir entwickeln zuerst die Klasse *Knoten* und eine aufs Wesentliche reduzierte Klasse *VerketteteListe*. In den späteren Übungen erweitern wir *VerketteteListe* um immer mehr Methoden.   \n",
    "\n",
    "**Achtung: Der untenstehende Code führt zu einer Endlosschleife, denn er enthält einen (fiesen) Fehler in der Methode `einfuegen_vorne`. Findest du ihn?**"
   ]
  },
  {
   "cell_type": "code",
   "execution_count": null,
   "metadata": {},
   "outputs": [],
   "source": [
    "from __future__ import annotations\n",
    "\n",
    "class Knoten:\n",
    "    def __init__(self, inhalt):\n",
    "        \"\"\" Konstruktor für die Klasse Knoten: speichert den Inhalt und legt\n",
    "        eine Referenz auf den nächsten Knoten an. \"\"\"\n",
    "        self.inhalt = inhalt   # keine Typ-Angabe: inhalt kann beliebig sein\n",
    "        self.naechster: Knoten|None = None    # Typ-Annotation: naechster ist ein Knoten oder None\n",
    "\n",
    "    def __str__(self) -> str:\n",
    "        return str(self.inhalt)\n",
    "    \n",
    "    \n",
    "class VerketteteListe:\n",
    "    def __init__(self):\n",
    "        self.erster: Knoten|None = None   # Der erste Knoten in der Liste (Listenkopf)    \n",
    "\n",
    "    def __str__(self) -> str:\n",
    "        \"\"\" Gibt die Liste als Zeichenkette, getrennt durch Pfeile, zurück. \"\"\"\n",
    "        inhalte = []\n",
    "        knoten = self.erster\n",
    "        while knoten is not None:\n",
    "            inhalte.append(knoten.inhalt)\n",
    "            knoten = knoten.naechster\n",
    "        return \" -> \".join(inhalte)\n",
    "\n",
    "    def einfuegen_vorne(self, pInhalt) -> None:\n",
    "        \"\"\"Fügt einen neuen Knoten mit pInhalt am Anfang der Liste ein.\"\"\"\n",
    "        neu = Knoten(pInhalt)   # \"Verpacke\" den Inhalt in einen Knoten\n",
    "        self.erster = neu  # Der neue Knoten ist ab jetzt der Listenkopf\n",
    "        neu.naechster = self.erster  # Nachfolger des neuen Knotens ist der bisherige Listenkopf\n",
    "\n",
    "\n",
    "print(\"Achtung: Dieser Code enthält einen Fehler in der Methode einfuegen_vorne. Findest du ihn?\")\n",
    "liste_bsp1 = VerketteteListe()\n",
    "liste_bsp1.einfuegen_vorne(\"Anna\")\n",
    "liste_bsp1.einfuegen_vorne(\"Bibi\")\n",
    "liste_bsp1.einfuegen_vorne(\"Coco\")\n",
    "liste_bsp1.einfuegen_vorne(\"Dina\")\n",
    "print(liste_bsp1)"
   ]
  },
  {
   "cell_type": "markdown",
   "metadata": {},
   "source": [
    "Die korrekte Lösung erhältst du, wenn du dieses Parsons-Problem löst:"
   ]
  },
  {
   "cell_type": "code",
   "execution_count": 13,
   "metadata": {
    "tags": [
     "remove-input"
    ]
   },
   "outputs": [
    {
     "data": {
      "text/html": [
       "\n",
       "        <iframe\n",
       "            width=\"1000\"\n",
       "            height=\"400\"\n",
       "            src=\"parsonsproblems/parsons2allgemein.html?problem=CmRlZiBlaW5mdWVnZW5fdm9ybmUoc2VsZiwgcEluaGFsdCk6CiAgICBuZXUgPSBLbm90ZW4ocEluaGFsdCkgICAjICJWZXJwYWNrZSIgZGVuIEluaGFsdCBpbiBlaW5lbiBLbm90ZW4KICAgIG5ldS5uYWVjaHN0ZXIgPSBzZWxmLmVyc3RlciAgIyBOYWNoZm9sZ2VyIGRlcyBuZXVlbiBLbm90ZW5zIGlzdCBkZXIgYmlzaGVyaWdlIExpc3RlbmtvcGYKICAgIHNlbGYuZXJzdGVyID0gbmV1ICAjIERlciBuZXVlIEtub3RlbiBpc3QgYWIgamV0enQgZGVyIExpc3RlbmtvcGYK\"\n",
       "            frameborder=\"0\"\n",
       "            allowfullscreen\n",
       "            \n",
       "        ></iframe>\n",
       "        "
      ],
      "text/plain": [
       "<IPython.lib.display.IFrame at 0x1187e4a50>"
      ]
     },
     "execution_count": 13,
     "metadata": {},
     "output_type": "execute_result"
    }
   ],
   "source": [
    "problem_str = \"\"\"\n",
    "def einfuegen_vorne(self, pInhalt):\n",
    "    neu = Knoten(pInhalt)   # \"Verpacke\" den Inhalt in einen Knoten\n",
    "    neu.naechster = self.erster  # Nachfolger des neuen Knotens ist der bisherige Listenkopf\n",
    "    self.erster = neu  # Der neue Knoten ist ab jetzt der Listenkopf\n",
    "\"\"\"\n",
    "\n",
    "from IPython.display import IFrame\n",
    "import base64\n",
    "import urllib.parse\n",
    "\n",
    "encoded_problem = base64.b64encode(bytes(problem_str, 'utf-8')).decode('utf-8')\n",
    "encoded_problem = encoded_problem.rstrip(\"=\")  # remove trailing '=' \n",
    "safe_string = urllib.parse.quote_plus(encoded_problem)\n",
    "url_str = f\"parsonsproblems/parsons2allgemein.html\"\n",
    "IFrame(url_str, width=1000, height=400, problem=safe_string)"
   ]
  },
  {
   "cell_type": "markdown",
   "metadata": {},
   "source": [
    "Wenn du verstanden hast, warum die Lösung so - und nur so! - funktioniert, bist du bereit, die weiteren Operationen von Listen zu implementieren!"
   ]
  },
  {
   "cell_type": "markdown",
   "metadata": {},
   "source": [
    "### Listenoperationen implementieren\n",
    "Die ersten beiden Operationen, die du implementieren sollst, sind `ist_leer` und `anzahl_elemente` (s. {numref}`fig_kd_verkettete_liste`).\n",
    "\n",
    "Automatische Tests werden dir dabei helfen, deine Implementierungen zu überprüfen. Das funktioniert so:\n",
    "\n",
    "- In der folgenden Zelle findet du den Code für die Klasse `VerketteteListe`, den wir bisher entwickelt haben sowie die beiden noch unvollständigen Methoden `ist_leer` und `anzahl_elemente`.\n",
    "- Am Ende der Zelle werden Tests definiert. Diese musst du gar nicht genau anschauen; es reicht, wenn du die Zelle ausführst und genau anschaust, was die Tests ausgeben.\n",
    "- Verbessere deinen Code, bis alle Tests korrekt durchlaufen."
   ]
  },
  {
   "cell_type": "code",
   "execution_count": 12,
   "metadata": {},
   "outputs": [
    {
     "name": "stdout",
     "output_type": "stream",
     "text": [
      "Mögen die Tests beginnen!\n",
      "Teste Methode ist_leer()...\n"
     ]
    },
    {
     "ename": "AssertionError",
     "evalue": "Fehler: Leere Liste wird nicht als leer erkannt.",
     "output_type": "error",
     "traceback": [
      "\u001b[0;31m---------------------------------------------------------------------------\u001b[0m",
      "\u001b[0;31mAssertionError\u001b[0m                            Traceback (most recent call last)",
      "Cell \u001b[0;32mIn[12], line 65\u001b[0m\n\u001b[1;32m     62\u001b[0m     \u001b[38;5;28;01massert\u001b[39;00m ergebnis \u001b[38;5;241m==\u001b[39m korrekt, \u001b[38;5;124mf\u001b[39m\u001b[38;5;124m\"\u001b[39m\u001b[38;5;124mFehler: Die korrekte Anzahl der Elemente in der Liste ist \u001b[39m\u001b[38;5;132;01m{\u001b[39;00mkorrekt\u001b[38;5;132;01m}\u001b[39;00m\u001b[38;5;124m, aber die Methode gibt \u001b[39m\u001b[38;5;132;01m{\u001b[39;00mergebnis\u001b[38;5;132;01m}\u001b[39;00m\u001b[38;5;124m zurück.\u001b[39m\u001b[38;5;124m\"\u001b[39m\n\u001b[1;32m     64\u001b[0m \u001b[38;5;28mprint\u001b[39m(\u001b[38;5;124m\"\u001b[39m\u001b[38;5;124mMögen die Tests beginnen!\u001b[39m\u001b[38;5;124m\"\u001b[39m)\n\u001b[0;32m---> 65\u001b[0m teste_ist_leer()\n\u001b[1;32m     66\u001b[0m teste_anzahl_elemente()\n\u001b[1;32m     67\u001b[0m \u001b[38;5;28mprint\u001b[39m(\u001b[38;5;124m\"\u001b[39m\u001b[38;5;124mSuper! Alle Tests wurden bestanden. Gratuliere!\u001b[39m\u001b[38;5;124m\"\u001b[39m)\n",
      "Cell \u001b[0;32mIn[12], line 48\u001b[0m, in \u001b[0;36mteste_ist_leer\u001b[0;34m()\u001b[0m\n\u001b[1;32m     46\u001b[0m \u001b[38;5;28mprint\u001b[39m(\u001b[38;5;124m\"\u001b[39m\u001b[38;5;124mTeste Methode ist_leer()...\u001b[39m\u001b[38;5;124m\"\u001b[39m)\n\u001b[1;32m     47\u001b[0m leere_liste \u001b[38;5;241m=\u001b[39m VerketteteListe()\n\u001b[0;32m---> 48\u001b[0m \u001b[38;5;28;01massert\u001b[39;00m leere_liste\u001b[38;5;241m.\u001b[39mist_leer() \u001b[38;5;241m==\u001b[39m \u001b[38;5;28;01mTrue\u001b[39;00m, \u001b[38;5;124m\"\u001b[39m\u001b[38;5;124mFehler: Leere Liste wird nicht als leer erkannt.\u001b[39m\u001b[38;5;124m\"\u001b[39m\n\u001b[1;32m     49\u001b[0m liste \u001b[38;5;241m=\u001b[39m beispiel_liste()\n\u001b[1;32m     50\u001b[0m \u001b[38;5;28;01massert\u001b[39;00m liste\u001b[38;5;241m.\u001b[39mist_leer() \u001b[38;5;241m==\u001b[39m \u001b[38;5;28;01mFalse\u001b[39;00m, \u001b[38;5;124m\"\u001b[39m\u001b[38;5;124mFehler: Liste mit Elementen wird als leer bezeichnet.\u001b[39m\u001b[38;5;124m\"\u001b[39m\n",
      "\u001b[0;31mAssertionError\u001b[0m: Fehler: Leere Liste wird nicht als leer erkannt."
     ]
    }
   ],
   "source": [
    "class VerketteteListe:\n",
    "    def __init__(self):\n",
    "        self.erster: Knoten|None = None   # Der erste Knoten in der Liste (Listenkopf)    \n",
    "\n",
    "    def __str__(self) -> str:\n",
    "        \"\"\" Gibt die Liste als Zeichenkette, getrennt durch Pfeile, zurück. \"\"\"\n",
    "        inhalte = []\n",
    "        knoten = self.erster\n",
    "        while knoten is not None:\n",
    "            inhalte.append(knoten.inhalt)\n",
    "            knoten = knoten.naechster\n",
    "        return \" -> \".join(inhalte)\n",
    "\n",
    "    def einfuegen_vorne(self, pInhalt):\n",
    "        \"\"\"Fügt einen neuen Knoten mit pInhalt am Anfang der Liste ein.\"\"\"\n",
    "        neu = Knoten(pInhalt)   # \"Verpacke\" den Inhalt in einen Knoten\n",
    "        neu.naechster = self.erster  # Nachfolger des neuen Knotens ist der bisherige Listenkopf\n",
    "        self.erster = neu  # Der neue Knoten ist ab jetzt der Listenkopf\n",
    "\n",
    "   # AUFGABE: Implementiere die folgenden Methoden für die Klasse VerketteteListe:\n",
    "    \n",
    "    def ist_leer(self) -> bool:\n",
    "        \"\"\"gibt True zurück, wenn die Liste leer ist, sonst False\"\"\"\n",
    "        # HIER ERGÄNZEN\n",
    "\n",
    "    def anzahl_elemente(self) -> int:\n",
    "        \"\"\"gibt die Anzahl der Elemente in der Liste zurück\"\"\"\n",
    "        # HIER ERGÄNZEN\n",
    "    \n",
    "\n",
    "\n",
    "# Mit den folgenden Tests kannst du deine Implementierung überprüfen.\n",
    "# Führe einfach diese Zelle aus, um die Tests zu starten.\n",
    "\n",
    "def beispiel_liste() -> VerketteteListe:\n",
    "    # print(\"Liste vorbereiten\")\n",
    "    test_liste = VerketteteListe()\n",
    "    test_liste.einfuegen_vorne(\"Anna\")   # Diese Methode existiert schon\n",
    "    test_liste.einfuegen_vorne(\"Bibi\")\n",
    "    test_liste.einfuegen_vorne(\"Coco\")\n",
    "    test_liste.einfuegen_vorne(\"Dina\")\n",
    "    # print(\"Die Liste sieht am Anfang so aus:\", test_liste)\n",
    "    return test_liste\n",
    "\n",
    "def teste_ist_leer():\n",
    "    print(\"Teste Methode ist_leer()...\")\n",
    "    leere_liste = VerketteteListe()\n",
    "    assert leere_liste.ist_leer() == True, \"Fehler: Leere Liste wird nicht als leer erkannt.\"\n",
    "    liste = beispiel_liste()\n",
    "    assert liste.ist_leer() == False, \"Fehler: Liste mit Elementen wird als leer bezeichnet.\"\n",
    "    print(\"Test für ist_leer() erfolgreich beendet.\") \n",
    "\n",
    "def teste_anzahl_elemente():\n",
    "    print(\"Teste Methode anzahl_elemente()...\")\n",
    "    leere_liste = VerketteteListe()\n",
    "    korrekt = 0\n",
    "    ergebnis = leere_liste.anzahl_elemente()\n",
    "    assert ergebnis == korrekt, f\"Fehler: Die korrekte Anzahl der Elemente in einer leeren Liste ist 0, aber die Methode gibt {ergebnis} zurück.\"    \n",
    "    liste = beispiel_liste()\n",
    "    korrekt = 4\n",
    "    ergebnis = liste.anzahl_elemente()\n",
    "    assert ergebnis == korrekt, f\"Fehler: Die korrekte Anzahl der Elemente in der Liste ist {korrekt}, aber die Methode gibt {ergebnis} zurück.\"\n",
    "\n",
    "print(\"Mögen die Tests beginnen!\")\n",
    "teste_ist_leer()\n",
    "teste_anzahl_elemente()\n",
    "print(\"Super! Alle Tests wurden bestanden. Gratuliere!\")\n",
    "\n"
   ]
  }
 ],
 "metadata": {
  "kernelspec": {
   "display_name": "base",
   "language": "python",
   "name": "python3"
  },
  "language_info": {
   "codemirror_mode": {
    "name": "ipython",
    "version": 3
   },
   "file_extension": ".py",
   "mimetype": "text/x-python",
   "name": "python",
   "nbconvert_exporter": "python",
   "pygments_lexer": "ipython3",
   "version": "3.11.8"
  }
 },
 "nbformat": 4,
 "nbformat_minor": 2
}
