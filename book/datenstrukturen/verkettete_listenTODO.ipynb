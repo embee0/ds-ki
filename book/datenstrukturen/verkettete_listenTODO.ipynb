{
 "cells": [
  {
   "cell_type": "markdown",
   "metadata": {},
   "source": [
    "# TODO Verkettete Listen"
   ]
  },
  {
   "cell_type": "markdown",
   "metadata": {},
   "source": [
    "## Planung UE Verkettete Listen\n",
    "\n",
    "- Warum Datenstrukturen? \n",
    "- ??? Spiel: Schülerkette Array vs Liste: Was muss passieren, wenn man eine Person einfügen will in der Mitte, am Ende, am Anfang\n",
    "- Aufgabe: Warum funktioniert das Einfügen mit diesem (Pseudo-)Code nicht?\n",
    "\n",
    "Aufgaben:\n",
    "- Wie sieht die Liste nach folgendem Befehl aus?\n",
    "- ...nach mehreren Befehlen (Einfügen und Löschen)?\n",
    "- Liste als OD zeichnen\n",
    "- "
   ]
  },
  {
   "cell_type": "markdown",
   "metadata": {},
   "source": [
    "Begriffe:\n",
    "- Dynamische Datenstrukturen: Datenstrukturen, die zur Laufzeit verändert werden können (im Gegensatz zu statischen Datenstrukturen, z.B. Arrays)\n",
    "- Referenz, Zeiger (engl. pointer): Speicheradresse eines Objekts\n",
    "- "
   ]
  },
  {
   "cell_type": "markdown",
   "metadata": {},
   "source": [
    "<iframe width=\"560\" height=\"315\" src=\"https://www.youtube.com/embed/1cdGc-33xIk?si=RXa7aSDJLzC_L5dg\" title=\"YouTube video player\" frameborder=\"0\" allow=\"accelerometer; autoplay; clipboard-write; encrypted-media; gyroscope; picture-in-picture; web-share\" referrerpolicy=\"strict-origin-when-cross-origin\" allowfullscreen></iframe>"
   ]
  }
 ],
 "metadata": {
  "language_info": {
   "name": "python"
  }
 },
 "nbformat": 4,
 "nbformat_minor": 2
}
