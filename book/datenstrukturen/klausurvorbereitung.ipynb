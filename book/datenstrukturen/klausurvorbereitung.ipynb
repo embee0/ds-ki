{
 "cells": [
  {
   "cell_type": "markdown",
   "metadata": {},
   "source": [
    "# Aufgaben zur Vorbereitung auf Klausur und Abitur\n"
   ]
  },
  {
   "cell_type": "markdown",
   "metadata": {},
   "source": [
    "### Aufgabe: Sinnvollen ADT verwenden\n",
    "\n",
    "Welcher abstrakte Datentyp ist jeweils sinnvoll für die folgenden Anwendungen. Entscheide dich zwischen *Liste*, *Stapel*, *Warteschlange*, *assoziatives Array* und *Baum*.\n",
    "\n",
    "1. **Organigramm einer Firma**  \n",
    "   Darstellung der hierarchischen Struktur einer Organisation und ihrer Abteilungen.\n",
    "\n",
    "2. **Verarbeitung von Support-Anfragen**  \n",
    "   Anfragen werden in der Reihenfolge bearbeitet, in der sie eingehen.\n",
    "\n",
    "3. **Undo-Funktion in einem Texteditor**  \n",
    "   Schritte rückgängig machen in der Reihenfolge, in der sie durchgeführt wurden.\n",
    "\n",
    "4. **Produktkatalog mit schnellen Suchfunktionen**  \n",
    "   Zuordnung von Produktnamen zu Preisen und Lagerbeständen für schnellen Zugriff.\n",
    "\n",
    "5. **Dateisystem auf einem Computer**  \n",
    "   Organisieren und Speichern von Dateien in einer hierarchischen Struktur.\n",
    "\n",
    "6. **Navigation im Browser**  \n",
    "   Speichern der zuletzt besuchten Webseiten, um bei Bedarf zurückzukehren.\n",
    "\n",
    "7. **Liste wartender Patienten**  \n",
    "   Patienten in einer Reihenfolge verwalten, die (je nach Dringlichkeit) flexibel erweitert und angepasst werden kann.\n",
    "\n",
    "```{admonition} Lösung:\n",
    ":class: tip, dropdown\n",
    "(Heute bekommst du noch für die Probeklausur noch keine Lösung 😿)\n",
    "```"
   ]
  },
  {
   "cell_type": "markdown",
   "metadata": {},
   "source": [
    "### Aufgabe Verkettete Listen: Objektdiagramm zeichnen\n",
    "Der folgende Pseudocode erzeugt mit den Klassen und Methoden aus dem Klassendiagram in {numref}`fig_kd_verkettete_liste` eine verkettete Liste. Stelle diese als *Objektdiagramm* dar.\n",
    "\n",
    "```python\n",
    "liste = NEU VerketteteListe()\n",
    "liste.anhaengen(\"Tina)\n",
    "liste.anhaengen(\"Bibi\")\n",
    "liste.einfuegen(1, \"Amadeus\")\n",
    "liste.einfuegenVorne(\"Sabrina)\n",
    "liste.entfernen(2)\n",
    "```\n",
    "\n",
    "```{admonition} Lösung:\n",
    ":class: tip, dropdown\n",
    "(Heute bekommst du noch für die Probeklausur noch keine Lösung 😿)\n",
    "```"
   ]
  },
  {
   "cell_type": "markdown",
   "metadata": {},
   "source": [
    "### Aufgabe Verkettete Listen: Operation implementieren\n",
    "Implementiere die Methode `anhaengen` der Klasse `VerketteteListe` in Pseudocode oder Python, so wie sie im Klassendiagramm in {numref}`fig_kd_verkettete_liste` vorkommt. \n",
    "\n",
    "```{admonition} Lösung:\n",
    ":class: tip, dropdown\n",
    "(Heute bekommst du noch für die Probeklausur noch keine Lösung 😿)\n",
    "```"
   ]
  },
  {
   "cell_type": "markdown",
   "metadata": {},
   "source": [
    "### Aufgabe Stapel\n",
    "Was gibt der folgende Code aus?\n",
    "\n",
    "```python\n",
    "s1 = Stapel()\n",
    "s2 = Stapel()\n",
    "\n",
    "s1.push(\"Birne\")\n",
    "s1.push(\"Apfel\")\n",
    "\n",
    "s2.push(\"Kirsche\")\n",
    "s2.push(\"Banane\")\n",
    "s2.push(\"Erdbeere\")\n",
    "\n",
    "while not s1.ist_leer():\n",
    "    t = s1.pop()\n",
    "    s2.push(t)\n",
    "\n",
    "while not s2.ist_leer():\n",
    "    print(s2.pop())  \n",
    "```\n",
    "\n",
    "```{admonition} Lösung:\n",
    ":class: tip, dropdown\n",
    "(Heute bekommst du noch für die Probeklausur noch keine Lösung 😿)\n",
    "```"
   ]
  },
  {
   "cell_type": "markdown",
   "metadata": {},
   "source": [
    "### Aufgabe Binärbaum: Preorder/Postorder/Inorder\n",
    "Betrachte den folgenden Baum.\n",
    "\n",
    "```{figure} bilder/baeume/aufgabe_binbaum_suchbaum_seed40.svg\n",
    "---\n",
    "width: 80%\n",
    "align: center\n",
    "---\n",
    "```\n",
    "\n",
    "a) Beantworte die folgenden Fragen:\n",
    "\n",
    "1. Wie viele Blätter hat der Baum?\n",
    "2. Welche Tiefe hat der Baum?\n",
    "3. Wie viele Knoten befinden sich im rechten Teilbaum des linken Teilbaums der Wurzel?\n",
    "\n",
    "\n",
    "b) Liste alle Elemente des Baums auf in\n",
    "- Preorder-\n",
    "- Postorder- und\n",
    "- Inorder-Reihenfolge.\n",
    "\n",
    "```{admonition} Lösung:\n",
    ":class: tip, dropdown\n",
    "(Heute bekommst du noch für die Probeklausur noch keine Lösung 😿)\n",
    "```\n"
   ]
  },
  {
   "cell_type": "markdown",
   "metadata": {},
   "source": [
    "### Aufgabe Binärbaum: Operation implementieren\n",
    "Der folgende Binärbaum soll aufgebaut werden:\n",
    "```{figure} bilder/baeume/baum_abitur.svg\n",
    "---\n",
    "width: 60%\n",
    "align: center\n",
    "---\n",
    "```\n",
    "\n",
    "Nutze die Klassen und Methoden aus {numref}`fig_binbaum_fosa` um den Baum in Pseudocode oder Python zu erzeugen.\n",
    "\n",
    "```{admonition} Lösung:\n",
    ":class: tip, dropdown\n",
    "(Heute bekommst du noch für die Probeklausur noch keine Lösung 😿)\n",
    "```\n"
   ]
  }
 ],
 "metadata": {
  "language_info": {
   "name": "python"
  }
 },
 "nbformat": 4,
 "nbformat_minor": 2
}
