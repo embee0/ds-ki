{
 "cells": [
  {
   "cell_type": "markdown",
   "metadata": {},
   "source": [
    "# Künstliche Intelligenz: Einführung\n",
    "\n",
    "Die Künstliche Intelligenz ist ein weites Feld, das man aus verschiedenen Perspektiven betrachten kann.\n",
    "\n",
    "Fürs Abitur am TG Informationstechnik sind im Augenblick nur die folgenden Themen relevant - und in diesem Skript werden deshalb auch nur sie ausführlich behandelt. In unserem *Moodle-Kurs* findest du weitere Materialien, insb. zu den gesellschaflichen Auswirkungen von KI und dazu, wie du selbst KI nutzen kannst, sollst, darfst (und an manchen Stellen auch besser *nicht* nutzen sollst oder darfst) .\n",
    "\n",
    "## KI-Themen, die fürs Abitur in Informationstechnik relevant sind\n",
    "\n",
    "- Der k-Nächste-Nachbarn-Algorithmus\n",
    "- k-Means-Clustering\n",
    "- Entscheidungsbaumlernen\n",
    "- Der Minimax-Algorithmus für Zwei-Personen-Spiele\n",
    "- Neuronale Netze\n",
    "\n",
    "## Wichtige Begriffe, die du kennen musst\n",
    "(Hier werden wir nach und nach kurze Definitionen ergänzen.)\n",
    "\n",
    "- Aktivierungsfunktion\n",
    "- Backpropagation\n",
    "- Bestärkendes Lernen (s. verstärkendes Lernen)\n",
    "- Distanzmaße\n",
    "- Eifriger Lerner (eager learner)\n",
    "- Entscheidungsbaum\n",
    "- Entscheidungsbaumlernen\n",
    "- Fauler Lerner (lazy learner)\n",
    "- Gelabelte vs ungelabelte Daten\n",
    "- Gini-Unreinheit\n",
    "- Gradientenabstieg\n",
    "- Klassifikation\n",
    "- K-Means Clustering\n",
    "- K-Nächste-Nachbarn-Algorithmus\n",
    "- Label (s. Gelabelte vs ungelabelte Daten)\n",
    "- Lerner vs Löser\n",
    "- Lernrate\n",
    "- Manhattan-Distanz\n",
    "- Minimax-Algorithmus\n",
    "- Neuronales Netz\n",
    "- Overfitting\n",
    "- Perzeptron\n",
    "- Regression\n",
    "- Softmax-Funktion\n",
    "- Testdaten\n",
    "- Trainingsdaten\n",
    "- Überwachtes Lernen\n",
    "- Underfitting\n",
    "- Unüberwachtes Lernen\n",
    "- Verstärkendes Lernen"
   ]
  }
 ],
 "metadata": {
  "language_info": {
   "name": "python"
  }
 },
 "nbformat": 4,
 "nbformat_minor": 2
}
