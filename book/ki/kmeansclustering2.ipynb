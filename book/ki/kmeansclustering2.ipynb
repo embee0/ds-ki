{
 "cells": [
  {
   "cell_type": "markdown",
   "metadata": {},
   "source": [
    "## Programmierung des Algorithmus\n",
    "\n",
    "Wir werden den Algorithmus k-means- nun kleinschrittig programmieren und jeden Schritt voneinander trennen. Dabei greifen wir auf keine externen Bibliotheken wie numpy zu. Lediglich für das Plotten der Ergebnisse benötigen wir matplotlib. Wir benötigen folgende Dinge"
   ]
  }
 ],
 "metadata": {
  "language_info": {
   "name": "python"
  }
 },
 "nbformat": 4,
 "nbformat_minor": 2
}
