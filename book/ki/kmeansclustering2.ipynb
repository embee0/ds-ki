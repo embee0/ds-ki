{
 "cells": [
  {
   "cell_type": "markdown",
   "metadata": {},
   "source": [
    "## Programmierung des Algorithmus\n",
    "\n",
    "Wir werden den k-means-Clustering Algorithmus nun kleinschrittig programmieren und jeden Schritt voneinander trennen.\n",
    "\n",
    "... to follow"
   ]
  }
 ],
 "metadata": {
  "language_info": {
   "name": "python"
  }
 },
 "nbformat": 4,
 "nbformat_minor": 2
}
