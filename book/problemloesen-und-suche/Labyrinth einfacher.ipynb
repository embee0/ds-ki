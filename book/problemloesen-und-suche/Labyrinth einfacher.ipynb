{
 "cells": [
  {
   "cell_type": "markdown",
   "metadata": {},
   "source": [
    "# Flucht aus dem Labyrinth"
   ]
  },
  {
   "cell_type": "markdown",
   "metadata": {},
   "source": [
    "**Aufgabe:** Schreibe ein Programm, das einen Weg durch das folgende Labyrinth findet, vom Eingang in der obersten Zeile zum Ausgang in der untersten Zeile."
   ]
  },
  {
   "cell_type": "code",
   "execution_count": 10,
   "metadata": {},
   "outputs": [],
   "source": [
    "labyrinth01 = \"\"\"\n",
    "########### #########\n",
    "# #               # #\n",
    "# # ### ######### # #\n",
    "#     #         # # #\n",
    "# ############# # # #\n",
    "# # #           # # #\n",
    "# # # ########### # #\n",
    "#   #   #     #   # #\n",
    "##### # # # ### ### #\n",
    "#   # # # # #   #   #\n",
    "# # ### # # # ##### #\n",
    "# #   # # # # #   # #\n",
    "##### # # ### # # # #\n",
    "#   #   #   #   #   #\n",
    "### ##### # ####### #\n",
    "#     #   #       # #\n",
    "# ##### ##### ##### #\n",
    "#     # #   #       #\n",
    "# ### # ### #########\n",
    "#   #               #\n",
    "########### #########\n",
    "\"\"\""
   ]
  },
  {
   "cell_type": "markdown",
   "metadata": {},
   "source": [
    "Weitere zufällige Labyrinthe kannst du hier erzeugen:\n",
    "https://thenerdshow.com/amaze.html?rows=10&cols=10  \n",
    "(Markiere das Labyrinth und füge es als String ein.)"
   ]
  },
  {
   "cell_type": "markdown",
   "metadata": {},
   "source": [
    "### Bewegen im Labyrinth\n",
    "Bevor wir beginnen können, einen kompletten Weg durchs Labyrinth zu suchen, überlegen wir zuerst, wie man einzelne Schritte beschreiben kann."
   ]
  },
  {
   "cell_type": "markdown",
   "metadata": {},
   "source": [
    "Eine Position schreiben wir als 2-Tupel (Paar), z.B.\n",
    "\n",
    "```\n",
    "pos = (11, 0)  # die Koordinaten des Eingangs beim obigen Labyrinth\n",
    "```\n",
    "\n",
    "Es gibt vier \"Züge\", d.h. Bewegungsmöglichkeiten: links, rechts, hoch und runter.\n",
    "Jede Bewegung entspricht einer Positionsänderung in x- oder y-Richtung.\n",
    "\n",
    " Dies könnte man durch mehrere `if`-Statements (in anderen Sprachen: `switch`) lösen:\n",
    "```\n",
    "px, py = pos   # \"tuple unpacking\" (Destrukturierung), d.h. Datenstruktur auf mehrere Einzelvariablen verteilen\n",
    "if zug == \"rechts\":\n",
    "    px += 1\n",
    "elif zug == \"hoch\":\n",
    "    py += -1\n",
    "elif zug == \"links\":\n",
    "    ...   # usw.\n",
    "```\n",
    "\n",
    "Das wird schnell unübersichtlich und ist auch konzeptuell unschön: Eigentlich ist doch\n",
    "jedem String zug ein bestimmer Richtungsvektor `(dx, dy)` zugeordnet. Wir verwenden also besser \n",
    "eine Art \"Lookup-Table\" bzw. in Python ein **Dictionary**:"
   ]
  },
  {
   "cell_type": "code",
   "execution_count": 30,
   "metadata": {},
   "outputs": [],
   "source": [
    "zuege = dict(links=(-1, 0), rechts=(1, 0), hoch=(0, -1), runter=(0, 1))   # zuege[\"links\"] == (-1, 0) usw."
   ]
  },
  {
   "cell_type": "markdown",
   "metadata": {},
   "source": [
    "Damit können wir nun eine einfach Funktion definieren, die Züge (Bewegungen) im Labyrinth durchführt.\n",
    "\n",
    "*Hinweis: Wie beim Schiebepuzzle verzichten wir an dieser Stelle auf die Überprüfung, ob der Zug überhaupt erlaubt ist. Dies Auswahl \"legaler\" Züge treffen wir später und können **hier** deshalb darauf verzichten.*"
   ]
  },
  {
   "cell_type": "code",
   "execution_count": 12,
   "metadata": {},
   "outputs": [
    {
     "data": {
      "text/plain": [
       "(11, 1)"
      ]
     },
     "execution_count": 12,
     "metadata": {},
     "output_type": "execute_result"
    }
   ],
   "source": [
    "def gehe(pos, richtung):\n",
    "    px, py = pos   # \"tuple unpacking\"\n",
    "    dx, dy = zuege[richtung]\n",
    "    return px+dx, py+dy\n",
    "\n",
    "# Bsp:\n",
    "gehe((11, 0), \"runter\")"
   ]
  },
  {
   "cell_type": "markdown",
   "metadata": {},
   "source": [
    "Nun müssen wir noch beschreiben, welche Bewegungen an einer bestimmten Position im Labyrinth erlaubt sind. Dazu prüfen wir für jeden der möglichen Züge, ob seine Ausführung auf ein leeres Feld des Labyrinths führt.\n",
    "\n",
    "Dafür können wir praktischerweise die gerade programmierte Funktion `gehe()` verwenden."
   ]
  },
  {
   "cell_type": "code",
   "execution_count": 29,
   "metadata": {},
   "outputs": [
    {
     "data": {
      "text/plain": [
       "['links', 'rechts', 'hoch']"
      ]
     },
     "execution_count": 29,
     "metadata": {},
     "output_type": "execute_result"
    }
   ],
   "source": [
    "def labyrinth_einlesen(lab_str):\n",
    "    return [zeile.rstrip('\\n') for zeile in lab_str.splitlines() if zeile.startswith(\"#\")]\n",
    "\n",
    "def ist_frei(pos, labyrinth):\n",
    "    px, py = pos    \n",
    "    hoehe = len(labyrinth)\n",
    "    breite = len(labyrinth[0])\n",
    "    return 0 <= px < breite and 0 <= py < hoehe and labyrinth[py][px] == ' '\n",
    "\n",
    "def moegliche_bewegungsrichtungen(pos, labyrinth):\n",
    "    px, py = pos\n",
    "    erlaubte = [richtung for richtung in zuege if ist_frei(gehe(pos, richtung), labyrinth)]\n",
    "    return erlaubte\n",
    "\n",
    "# Bsp:\n",
    "moegliche_bewegungsrichtungen((11, 1), labyrinth_einlesen(labyrinth01))\n"
   ]
  },
  {
   "cell_type": "markdown",
   "metadata": {},
   "source": [
    "Nun haben wir alles, was wir benötigen, um die Wegsuche in Labyrinthen als *Suchproblem* zu beschreiben!"
   ]
  },
  {
   "cell_type": "markdown",
   "metadata": {},
   "source": [
    "### Das Labyrinth als Suchproblem\n"
   ]
  },
  {
   "cell_type": "code",
   "execution_count": null,
   "metadata": {},
   "outputs": [],
   "source": [
    "from breitensuche import Suchproblem\n",
    "\n",
    "# Es gibt vier \"Züge\", d.h. Bewegungsmöglichkeiten: links, rechts, hoch und runter.\n",
    "# Jede Bewegung entspricht einer Positionsänderung in x- und y-Richtung.\n",
    "# Die Zuordnung zug --> (deltax, deltay) speichern wir in einem Dictionary:\n",
    "zuege = dict(links=(-1, 0), rechts=(1, 0), hoch=(0, -1), runter=(0, 1))\n",
    "\n",
    "class Labyrinth(Suchproblem):\n",
    "\n",
    "    def __init__(self, lab):\n",
    "        \"\"\"lädt das Labyrinth aus eine Multiline-String ein und findet Start- und Zielpunkt.\"\"\"\n",
    "        self.labyrinth = [zeile.rstrip('\\n') for zeile in lab.splitlines() if zeile.startswith(\"#\")]\n",
    "        self.hoehe = len(self.labyrinth)\n",
    "        self.breite = len(self.labyrinth[0])\n",
    "        self.startzustand = (self.labyrinth[0].index(' '), 0)  # Leerzeichen in Zeile 0\n",
    "        self.zielzustand = (self.labyrinth[-1].index(' '), self.hoehe - 1)  # Leerzeichen in letzter Zeile\n",
    "\n",
    "    def fuehre_aktion_aus(self, zustand, aktion):\n",
    "        \"\"\"Bsp. laby.fuehre_aktion_aus((11,0), \"runter\")  --> (11, 1)\"\"\"\n",
    "        # TODO: hier vervollständigen\n",
    "\n",
    "    def moegliche_aktionen(self, zustand):\n",
    "        \"\"\"laby.moegliche_aktionen((11, 1))  -->  ['links', 'rechts', 'hoch']\"\"\"\n",
    "        # TODO: hier vervollständigen\n",
    "\n",
    "    def darstellen(self, loesung=None, markierung='.'):\n",
    "        if loesung is None:\n",
    "            loesung = []\n",
    "        lab = list(self.labyrinth)  # Kopie des Labyrinths\n",
    "        weg = [self.startzustand]\n",
    "        for zug in loesung:\n",
    "            pos = weg[-1]  # letzte Position\n",
    "            pos_neu = self.fuehre_aktion_aus(pos, zug)\n",
    "            weg.append(pos_neu)\n",
    "        for x, y in weg:\n",
    "            lab[y] = lab[y][:x] + markierung + lab[y][x + 1:]  # Weg durch Markierung ersetzen\n",
    "        for zeile in lab:\n",
    "            print(zeile)"
   ]
  },
  {
   "cell_type": "code",
   "execution_count": null,
   "metadata": {},
   "outputs": [
    {
     "name": "stdout",
     "output_type": "stream",
     "text": [
      "###########.#########\n",
      "# #               # #\n",
      "# # ### ######### # #\n",
      "#     #         # # #\n",
      "# ############# # # #\n",
      "# # #           # # #\n",
      "# # # ########### # #\n",
      "#   #   #     #   # #\n",
      "##### # # # ### ### #\n",
      "#   # # # # #   #   #\n",
      "# # ### # # # ##### #\n",
      "# #   # # # # #   # #\n",
      "##### # # ### # # # #\n",
      "#   #   #   #   #   #\n",
      "### ##### # ####### #\n",
      "#     #   #       # #\n",
      "# ##### ##### ##### #\n",
      "#     # #   #       #\n",
      "# ### # ### #########\n",
      "#   #               #\n",
      "########### #########\n"
     ]
    }
   ],
   "source": [
    "problem = Labyrinth(labyrinth01)\n",
    "problem.darstellen()"
   ]
  },
  {
   "cell_type": "code",
   "execution_count": null,
   "metadata": {},
   "outputs": [
    {
     "data": {
      "text/plain": [
       "(11, 0)"
      ]
     },
     "execution_count": 39,
     "metadata": {},
     "output_type": "execute_result"
    }
   ],
   "source": [
    "problem.startzustand"
   ]
  },
  {
   "cell_type": "code",
   "execution_count": null,
   "metadata": {},
   "outputs": [
    {
     "data": {
      "text/plain": [
       "(11, 1)"
      ]
     },
     "execution_count": 41,
     "metadata": {},
     "output_type": "execute_result"
    }
   ],
   "source": [
    "problem.fuehre_aktion_aus(problem.startzustand, \"runter\")"
   ]
  },
  {
   "cell_type": "code",
   "execution_count": null,
   "metadata": {},
   "outputs": [
    {
     "data": {
      "text/plain": [
       "['links', 'rechts', 'hoch']"
      ]
     },
     "execution_count": 42,
     "metadata": {},
     "output_type": "execute_result"
    }
   ],
   "source": [
    "problem.moegliche_aktionen((11, 1))"
   ]
  },
  {
   "cell_type": "code",
   "execution_count": null,
   "metadata": {},
   "outputs": [
    {
     "name": "stdout",
     "output_type": "stream",
     "text": [
      "['runter', 'rechts', 'rechts', 'rechts', 'rechts', 'rechts', 'rechts', 'runter', 'runter', 'runter', 'runter', 'runter', 'runter', 'links', 'links', 'runter', 'runter', 'links', 'links', 'runter', 'runter', 'runter', 'runter', 'rechts', 'rechts', 'hoch', 'hoch', 'rechts', 'rechts', 'runter', 'runter', 'rechts', 'rechts', 'runter', 'runter', 'runter', 'runter', 'links', 'links', 'links', 'links', 'links', 'links', 'hoch', 'hoch', 'links', 'links', 'hoch', 'hoch', 'links', 'links', 'runter', 'runter', 'links', 'links', 'runter', 'runter', 'runter', 'runter', 'rechts', 'rechts', 'rechts', 'rechts', 'runter']\n",
      "Weglänge: 64\n"
     ]
    }
   ],
   "source": [
    "from breitensuche import breitensuche_graph\n",
    "loesung = breitensuche_graph(problem)\n",
    "print(loesung)\n",
    "print(\"Weglänge:\", len(loesung))"
   ]
  },
  {
   "cell_type": "code",
   "execution_count": null,
   "metadata": {},
   "outputs": [
    {
     "name": "stdout",
     "output_type": "stream",
     "text": [
      "###########.#########\n",
      "# #        .......# #\n",
      "# # ### #########.# #\n",
      "#     #         #.# #\n",
      "# ############# #.# #\n",
      "# # #           #.# #\n",
      "# # # ###########.# #\n",
      "#   #   #     #...# #\n",
      "##### # # # ###.### #\n",
      "#   # # # # #...#   #\n",
      "# # ### # # #.##### #\n",
      "# #   # # # #.#...# #\n",
      "##### # # ###.#.#.# #\n",
      "#   #   #...#...#...#\n",
      "### #####.#.#######.#\n",
      "#     #...#...    #.#\n",
      "# #####.#####.#####.#\n",
      "#     #.#   #.......#\n",
      "# ### #.### #########\n",
      "#   #  .....        #\n",
      "###########.#########\n"
     ]
    }
   ],
   "source": [
    "problem.darstellen(loesung)"
   ]
  }
 ],
 "metadata": {
  "kernelspec": {
   "display_name": "Python 3",
   "language": "python",
   "name": "python3"
  },
  "language_info": {
   "codemirror_mode": {
    "name": "ipython",
    "version": 3
   },
   "file_extension": ".py",
   "mimetype": "text/x-python",
   "name": "python",
   "nbconvert_exporter": "python",
   "pygments_lexer": "ipython3",
   "version": "3.8.5"
  }
 },
 "nbformat": 4,
 "nbformat_minor": 4
}
