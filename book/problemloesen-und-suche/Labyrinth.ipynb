{
 "cells": [
  {
   "cell_type": "markdown",
   "metadata": {},
   "source": [
    "# Flucht aus dem Labyrinth"
   ]
  },
  {
   "cell_type": "markdown",
   "metadata": {},
   "source": [
    "**Aufgabe:** Schreibe ein Programm, das einen Weg durch das folgende Labyrinth findet, vom Eingang in der obersten Zeile zum Ausgang in der untersten Zeile."
   ]
  },
  {
   "cell_type": "code",
   "execution_count": 6,
   "metadata": {},
   "outputs": [],
   "source": [
    "labyrinth01 = \"\"\"\n",
    "########### #########\n",
    "# #               # #\n",
    "# # ### ######### # #\n",
    "#     #         # # #\n",
    "# ############# # # #\n",
    "# # #           # # #\n",
    "# # # ########### # #\n",
    "#   #   #     #   # #\n",
    "##### # # # ### ### #\n",
    "#   # # # # #   #   #\n",
    "# # ### # # # ##### #\n",
    "# #   # # # # #   # #\n",
    "##### # # ### # # # #\n",
    "#   #   #   #   #   #\n",
    "### ##### # ####### #\n",
    "#     #   #       # #\n",
    "# ##### ##### ##### #\n",
    "#     # #   #       #\n",
    "# ### # ### #########\n",
    "#   #               #\n",
    "########### #########\n",
    "\"\"\""
   ]
  },
  {
   "cell_type": "markdown",
   "metadata": {},
   "source": [
    "Weitere zufällige Labyrinthe kannst du hier erzeugen:\n",
    "https://thenerdshow.com/amaze.html?rows=10&cols=10  \n",
    "(Markiere das Labyrinth und füge es als String ein.)"
   ]
  },
  {
   "cell_type": "markdown",
   "metadata": {},
   "source": [
    "### Das Labyrinth als Suchproblem\n"
   ]
  },
  {
   "cell_type": "code",
   "execution_count": 30,
   "metadata": {},
   "outputs": [],
   "source": [
    "from breitensuche import Suchproblem\n",
    "\n",
    "# Es gibt vier \"Züge\", d.h. Bewegungsmöglichkeiten: links, rechts, hoch und runter.\n",
    "# Jede Bewegung entspricht einer Positionsänderung in x- und y-Richtung.\n",
    "# Die Zuordnung zug --> (deltax, deltay) speichern wir in einem Dictionary:\n",
    "zuege = dict(links=(-1, 0), rechts=(1, 0), hoch=(0, -1), runter=(0, 1))\n",
    "\n",
    "class Labyrinth(Suchproblem):\n",
    "\n",
    "    def __init__(self, lab):\n",
    "        \"\"\"lädt das Labyrinth aus eine Multiline-String ein und findet Start- und Zielpunkt.\"\"\"\n",
    "        self.labyrinth = [zeile.rstrip('\\n') for zeile in lab.splitlines() if zeile.startswith(\"#\")]\n",
    "        self.hoehe = len(self.labyrinth)\n",
    "        self.breite = len(self.labyrinth[0])\n",
    "        self.startzustand = (self.labyrinth[0].index(' '), 0)  # Leerzeichen in Zeile 0\n",
    "        self.zielzustand = (self.labyrinth[-1].index(' '), self.hoehe - 1)  # Leerzeichen in letzter Zeile\n",
    "\n",
    "    def fuehre_aktion_aus(self, zustand, aktion):\n",
    "        \"\"\"Bsp. laby.fuehre_aktion_aus((11,0), \"runter\")  --> (11, 1)\"\"\"\n",
    "        x, y = zustand\n",
    "        # TODO: hier vervollständigen\n",
    "\n",
    "    def moegliche_aktionen(self, zustand):\n",
    "        \"\"\"laby.moegliche_aktionen((11, 1))  -->  ['links', 'rechts', 'hoch']\"\"\"\n",
    "        x, y = zustand\n",
    "        # TODO: hier vervollständigen\n",
    "\n",
    "    def darstellen(self, loesung=None, markierung='.'):\n",
    "        if loesung is None:\n",
    "            loesung = []\n",
    "        lab = list(self.labyrinth)  # Kopie des Labyrinths\n",
    "        weg = [self.startzustand]\n",
    "        for zug in loesung:\n",
    "            pos = weg[-1]  # letzte Position\n",
    "            pos_neu = self.fuehre_aktion_aus(pos, zug)\n",
    "            weg.append(pos_neu)\n",
    "        for x, y in weg:\n",
    "            lab[y] = lab[y][:x] + markierung + lab[y][x + 1:]  # Weg durch Markierung ersetzen\n",
    "        for zeile in lab:\n",
    "            print(zeile)"
   ]
  },
  {
   "cell_type": "code",
   "execution_count": 36,
   "metadata": {},
   "outputs": [
    {
     "name": "stdout",
     "output_type": "stream",
     "text": [
      "###########.#########\n",
      "# #               # #\n",
      "# # ### ######### # #\n",
      "#     #         # # #\n",
      "# ############# # # #\n",
      "# # #           # # #\n",
      "# # # ########### # #\n",
      "#   #   #     #   # #\n",
      "##### # # # ### ### #\n",
      "#   # # # # #   #   #\n",
      "# # ### # # # ##### #\n",
      "# #   # # # # #   # #\n",
      "##### # # ### # # # #\n",
      "#   #   #   #   #   #\n",
      "### ##### # ####### #\n",
      "#     #   #       # #\n",
      "# ##### ##### ##### #\n",
      "#     # #   #       #\n",
      "# ### # ### #########\n",
      "#   #               #\n",
      "########### #########\n"
     ]
    }
   ],
   "source": [
    "problem = Labyrinth(labyrinth01)\n",
    "problem.darstellen()"
   ]
  },
  {
   "cell_type": "code",
   "execution_count": 39,
   "metadata": {},
   "outputs": [
    {
     "data": {
      "text/plain": [
       "(11, 0)"
      ]
     },
     "execution_count": 39,
     "metadata": {},
     "output_type": "execute_result"
    }
   ],
   "source": [
    "problem.startzustand"
   ]
  },
  {
   "cell_type": "code",
   "execution_count": 41,
   "metadata": {},
   "outputs": [
    {
     "data": {
      "text/plain": [
       "(11, 1)"
      ]
     },
     "execution_count": 41,
     "metadata": {},
     "output_type": "execute_result"
    }
   ],
   "source": [
    "problem.fuehre_aktion_aus(problem.startzustand, \"runter\")"
   ]
  },
  {
   "cell_type": "code",
   "execution_count": 42,
   "metadata": {},
   "outputs": [
    {
     "data": {
      "text/plain": [
       "['links', 'rechts', 'hoch']"
      ]
     },
     "execution_count": 42,
     "metadata": {},
     "output_type": "execute_result"
    }
   ],
   "source": [
    "problem.moegliche_aktionen((11, 1))"
   ]
  },
  {
   "cell_type": "code",
   "execution_count": 34,
   "metadata": {},
   "outputs": [
    {
     "name": "stdout",
     "output_type": "stream",
     "text": [
      "['runter', 'rechts', 'rechts', 'rechts', 'rechts', 'rechts', 'rechts', 'runter', 'runter', 'runter', 'runter', 'runter', 'runter', 'links', 'links', 'runter', 'runter', 'links', 'links', 'runter', 'runter', 'runter', 'runter', 'rechts', 'rechts', 'hoch', 'hoch', 'rechts', 'rechts', 'runter', 'runter', 'rechts', 'rechts', 'runter', 'runter', 'runter', 'runter', 'links', 'links', 'links', 'links', 'links', 'links', 'hoch', 'hoch', 'links', 'links', 'hoch', 'hoch', 'links', 'links', 'runter', 'runter', 'links', 'links', 'runter', 'runter', 'runter', 'runter', 'rechts', 'rechts', 'rechts', 'rechts', 'runter']\n",
      "Weglänge: 64\n"
     ]
    }
   ],
   "source": [
    "from breitensuche import breitensuche_graph\n",
    "loesung = breitensuche_graph(problem)\n",
    "print(loesung)\n",
    "print(\"Weglänge:\", len(loesung))"
   ]
  },
  {
   "cell_type": "code",
   "execution_count": 35,
   "metadata": {},
   "outputs": [
    {
     "name": "stdout",
     "output_type": "stream",
     "text": [
      "###########.#########\n",
      "# #        .......# #\n",
      "# # ### #########.# #\n",
      "#     #         #.# #\n",
      "# ############# #.# #\n",
      "# # #           #.# #\n",
      "# # # ###########.# #\n",
      "#   #   #     #...# #\n",
      "##### # # # ###.### #\n",
      "#   # # # # #...#   #\n",
      "# # ### # # #.##### #\n",
      "# #   # # # #.#...# #\n",
      "##### # # ###.#.#.# #\n",
      "#   #   #...#...#...#\n",
      "### #####.#.#######.#\n",
      "#     #...#...    #.#\n",
      "# #####.#####.#####.#\n",
      "#     #.#   #.......#\n",
      "# ### #.### #########\n",
      "#   #  .....        #\n",
      "###########.#########\n"
     ]
    }
   ],
   "source": [
    "problem.darstellen(loesung)"
   ]
  }
 ],
 "metadata": {
  "kernelspec": {
   "display_name": "Python 3",
   "language": "python",
   "name": "python3"
  },
  "language_info": {
   "codemirror_mode": {
    "name": "ipython",
    "version": 3
   },
   "file_extension": ".py",
   "mimetype": "text/x-python",
   "name": "python",
   "nbconvert_exporter": "python",
   "pygments_lexer": "ipython3",
   "version": "3.7.6"
  }
 },
 "nbformat": 4,
 "nbformat_minor": 4
}
