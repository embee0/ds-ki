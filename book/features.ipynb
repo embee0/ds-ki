{
 "cells": [
  {
   "cell_type": "markdown",
   "metadata": {},
   "source": [
    "# Testseiet für neue Features\n",
    "\n",
    "Link zu [k-Nächste-Nachbarn-Algorithmus](knearestneighbor)\n",
    "\n",
    "[text with attributes]{.bg-warning}\n",
    "\n",
    "{.glossary}\n",
    "term name\n",
    ": Definition of the term\n",
    "\n",
    "{term}`term name`\n",
    "\n",
    "{#mypara .bg-warning}\n",
    "Here is a paragraph with attributes.\n",
    "\n",
    "[test](https://en.wikipedia.org/wiki/Uniform_Resource_Identifier)\n",
    "\n",
    "{ref}`A reference to my paragraph <mypara>`\n",
    "\n",
    "- [ ] An item that needs doing\n",
    "- [x] An item that is complete\n",
    "\n",
    "xxx  "
   ]
  }
 ],
 "metadata": {
  "language_info": {
   "name": "python"
  }
 },
 "nbformat": 4,
 "nbformat_minor": 2
}
